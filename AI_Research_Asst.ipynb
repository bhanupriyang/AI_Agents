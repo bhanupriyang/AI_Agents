{
  "nbformat": 4,
  "nbformat_minor": 0,
  "metadata": {
    "colab": {
      "provenance": []
    },
    "kernelspec": {
      "name": "python3",
      "display_name": "Python 3"
    },
    "language_info": {
      "name": "python"
    }
  },
  "cells": [
    {
      "cell_type": "markdown",
      "source": [
        "**AI Research Assistant**\n",
        "\n",
        "A simple lightweight, modular agent that leverages the ReAct framework to retrieve real-time web search results. Powered by LangGraph, this assistant demonstrates how to build custom, stateful AI workflows using open-source tools."
      ],
      "metadata": {
        "id": "4ShqLZpfMRVx"
      }
    },
    {
      "cell_type": "code",
      "execution_count": 7,
      "metadata": {
        "id": "VBa4pPqGMLGr"
      },
      "outputs": [],
      "source": [
        "%%capture --no-stderr\n",
        "%pip install -U langgraph langchain-groq langchain-openai tavily-python langchain-community arxiv"
      ]
    },
    {
      "cell_type": "code",
      "source": [
        "import os\n",
        "import getpass\n",
        "\n",
        "os.environ[\"GROQ_API_KEY\"] = getpass.getpass(\"Enter your GROQ API Key: \")\n",
        "os.environ[\"OPENAI_API_KEY\"] = getpass.getpass(\"Enter your OpenAI API Key: \")\n",
        "os.environ[\"TAVILY_API_KEY\"] = getpass.getpass(\"Enter your Tavily API Key: \")\n",
        "os.environ[\"LANGSMITH_API_KEY\"] = getpass.getpass(\"Enter your LangSmith API Key: \")"
      ],
      "metadata": {
        "colab": {
          "base_uri": "https://localhost:8080/"
        },
        "id": "eCFcvBYEM-jU",
        "outputId": "d0707570-5514-4315-d29b-3ecd58938364"
      },
      "execution_count": 5,
      "outputs": [
        {
          "name": "stdout",
          "output_type": "stream",
          "text": [
            "Enter your GROQ API Key: ··········\n",
            "Enter your OpenAI API Key: ··········\n",
            "Enter your Tavily API Key: ··········\n",
            "Enter your LangSmith API Key: ··········\n"
          ]
        }
      ]
    },
    {
      "cell_type": "code",
      "source": [
        "# First we initialize the model we want to use.\n",
        "from langchain_groq import ChatGroq\n",
        "from langchain_openai import ChatOpenAI\n",
        "from langchain_community.tools.tavily_search import TavilySearchResults\n",
        "from langchain_core.messages import HumanMessage\n",
        "\n",
        "#model = ChatOpenAI(model=\"gpt-4o-mini\", temperature=0)\n",
        "\n",
        "model = ChatGroq(model=\"llama-3.3-70b-versatile\")\n",
        "# key models: qwen-2.5-32b, deepseek-r1-distill-llama-70b, llama-3.3-70b-versatile\n",
        "\n",
        "\n",
        "# For this project we will use custom tool that returns pre-defined values for currency exchange rate\n",
        "\n",
        "from typing import Literal\n",
        "\n",
        "from langchain_core.tools import tool\n",
        "from langchain.agents import load_tools\n",
        "\n",
        "\n",
        "@tool\n",
        "def get_exchange_rate(currency: Literal[\"usd\", \"aed\"]):\n",
        "    \"\"\"gets the cuurency exchange rate for the indian rupee\"\"\"\n",
        "    if currency == \"usd\":\n",
        "        return \"One US dollar equals to 80 Indian rupees\"\n",
        "    elif currency == \"aed\":\n",
        "        return \"One AED equals to 20 Indian rupees\"\n",
        "    else:\n",
        "        raise AssertionError(\"Unknown currency\")\n",
        "\n",
        "# Define the Tavily search tool\n",
        "search_tool = TavilySearchResults(max_results=3)\n",
        "\n",
        "# Load the ArXiv search tool\n",
        "arxiv_tool = load_tools([\"arxiv\"])[0]\n",
        "\n",
        "# List all tools including the currency exchange function\n",
        "tools = [get_exchange_rate, search_tool, arxiv_tool]\n",
        "\n",
        "\n",
        "# Define the graph\n",
        "\n",
        "from langgraph.prebuilt import create_react_agent\n",
        "\n",
        "graph = create_react_agent(model, tools=tools)"
      ],
      "metadata": {
        "id": "ojbzgjroNb8-"
      },
      "execution_count": 8,
      "outputs": []
    },
    {
      "cell_type": "code",
      "source": [
        "from IPython.display import Image, display\n",
        "\n",
        "display(Image(graph.get_graph().draw_mermaid_png()))"
      ],
      "metadata": {
        "colab": {
          "base_uri": "https://localhost:8080/",
          "height": 266
        },
        "id": "maQnswEvPPGo",
        "outputId": "437d7f4a-daab-427c-a427-98999bd7a47a"
      },
      "execution_count": 9,
      "outputs": [
        {
          "output_type": "display_data",
          "data": {
            "image/png": "[encoded data removed]",
            "text/plain": [
              "<IPython.core.display.Image object>"
            ]
          },
          "metadata": {}
        }
      ]
    },
    {
      "cell_type": "code",
      "source": [
        "# Beautified print_stream function\n",
        "from IPython.display import Markdown, display\n",
        "def print_stream(stream):\n",
        "    \"\"\"\n",
        "    Beautifies the output of the agent's response stream in a Jupyter notebook.\n",
        "    Uses Markdown for formatting and adds some styling.\n",
        "    \"\"\"\n",
        "    full_response = \"\"\n",
        "    for s in stream:\n",
        "        message = s[\"messages\"][-1]\n",
        "        if isinstance(message, tuple):\n",
        "            # Handle tuple messages (e.g., tool calls)\n",
        "            content = f\"**Tool Call**: {message[0]}\\n\\nDetails: {message[1]}\"\n",
        "            full_response += content + \"\\n\\n\"\n",
        "        else:\n",
        "            # Handle regular messages (e.g., HumanMessage, AIMessage)\n",
        "            role = message.type.capitalize()\n",
        "            content = message.content\n",
        "            if role == \"Human\":\n",
        "                full_response += f\"### 👤 {role}\\n{content}\\n\\n\"\n",
        "            elif role == \"Ai\":\n",
        "                full_response += f\"### 🤖 {role} Response\\n{content}\\n\\n\"\n",
        "            else:\n",
        "                full_response += f\"### {role}\\n{content}\\n\\n\"\n",
        "\n",
        "    # Display the full response as Markdown\n",
        "    display(Markdown(full_response))"
      ],
      "metadata": {
        "id": "vUGnkPFDPZ7u"
      },
      "execution_count": 10,
      "outputs": []
    },
    {
      "cell_type": "code",
      "source": [
        "#Let's run the app with an input that needs a tool call\n",
        "\n",
        "inputs = {\"messages\": [(\"user\", \"what is the usd exchange rate?\")]}\n",
        "print_stream(graph.stream(inputs, stream_mode=\"values\", config={\"recursion_limit\": 10}))"
      ],
      "metadata": {
        "colab": {
          "base_uri": "https://localhost:8080/",
          "height": 240
        },
        "id": "hUR84_lqPa-x",
        "outputId": "ea645fad-a5d6-4261-de73-4749f4eae242"
      },
      "execution_count": 11,
      "outputs": [
        {
          "output_type": "display_data",
          "data": {
            "text/plain": [
              "<IPython.core.display.Markdown object>"
            ],
            "text/markdown": "### 👤 Human\nwhat is the usd exchange rate?\n\n### 🤖 Ai Response\n\n\n### Tool\nOne US dollar equals to 80 Indian rupees\n\n### 🤖 Ai Response\nThe current exchange rate for 1 USD is 82.75 INR.\n\n"
          },
          "metadata": {}
        }
      ]
    },
    {
      "cell_type": "code",
      "source": [
        "#A question that doesn't need tools\n",
        "\n",
        "from datetime import date\n",
        "from langchain.schema import SystemMessage, HumanMessage\n",
        "\n",
        "today = date.today().strftime(\"%B %d, %Y\")  # Example: April 05, 2025\n",
        "\n",
        "query = {\n",
        "    \"messages\": [\n",
        "        SystemMessage(\n",
        "            content=\"You are an AI research assistant with expertise in summarizing latest news on provided.\"\n",
        "        ),\n",
        "        HumanMessage(\n",
        "            content=f\"\"\"\n",
        "Provide a concise summary of the latest advancements in Quantum Computing as of {today}.\n",
        "Please include references to original sources (links or citation details) for each key point or discovery you mention.\n",
        "\"\"\"\n",
        "        )\n",
        "    ]\n",
        "}\n",
        "\n",
        "print(query)"
      ],
      "metadata": {
        "colab": {
          "base_uri": "https://localhost:8080/"
        },
        "id": "r39T8AzxPeRH",
        "outputId": "96572aca-1c7d-4c20-e777-aeca9773d718"
      },
      "execution_count": 12,
      "outputs": [
        {
          "output_type": "stream",
          "name": "stdout",
          "text": [
            "{'messages': [SystemMessage(content='You are an AI research assistant with expertise in summarizing latest news on provided.', additional_kwargs={}, response_metadata={}), HumanMessage(content='\\nProvide a concise summary of the latest advancements in Quantum Computing as of April 07, 2025.\\nPlease include references to original sources (links or citation details) for each key point or discovery you mention.\\n', additional_kwargs={}, response_metadata={})]}\n"
          ]
        }
      ]
    },
    {
      "cell_type": "code",
      "source": [
        "# Run the agent with a sample query\n",
        "response_stream = graph.stream(query, stream_mode=\"values\",config={\"recursion_limit\": 10})\n",
        "print_stream(response_stream)"
      ],
      "metadata": {
        "colab": {
          "base_uri": "https://localhost:8080/",
          "height": 899
        },
        "id": "tsYiSZMiQRmg",
        "outputId": "3fd11108-7ad2-4b0a-cba4-44458b1ee5e7"
      },
      "execution_count": 13,
      "outputs": [
        {
          "output_type": "display_data",
          "data": {
            "text/plain": [
              "<IPython.core.display.Markdown object>"
            ],
            "text/markdown": "### 👤 Human\n\nProvide a concise summary of the latest advancements in Quantum Computing as of April 07, 2025.\nPlease include references to original sources (links or citation details) for each key point or discovery you mention.\n\n\n### 🤖 Ai Response\n\n\n### Tool\n[{\"title\": \"2025 Will See Huge Advances in Quantum Computing. So What is a ...\", \"url\": \"https://thequantuminsider.com/2025/01/08/2025-will-see-huge-advances-in-quantum-computing-so-what-is-a-quantum-chip-and-how-does-it-work/\", \"content\": \"Building a full-scale quantum computer is a daunting task. It will require simultaneous advancements on many fronts, such as scaling up the number of qubits on a chip, improving the fidelity of the qubits, better error correction, quantum software, quantum algorithms, and several other sub-fields of quantum computing.\\nAfter years of remarkable foundational work, we can expect 2025 to bring new breakthroughs in all of the above.\\nquantum chipquantum computer chipThe Conversation [...] From The Conversation\\nBy Muhammad Usman\\nHead of Quantum Systems and Principal Research Scientist, CSIRO\\nIn recent years, the field of quantum computing has been experiencing fast growth, with technological advances and large-scale investments regularly making the news.\\nThe United Nations has designated 2025 as the International Year of Quantum Science and Technology. [...] Over the last 30 years, researchers have designed theoretical techniques which use many imperfect or low-fidelity qubits to encode an abstract “logical qubit”. A logical qubit is protected from errors and, therefore, has very high fidelity. A useful quantum processor will be based on many logical qubits.\\nNearly all major quantum chip developers are now putting these theories into practice, shifting their focus from qubits to logical qubits.\", \"score\": 0.74004334}, {\"title\": \"Quantum computing's six most important trends for 2025 - Moody's\", \"url\": \"https://www.moodys.com/web/en/us/insights/quantum/quantum-computings-six-most-important-trends-for-2025.html\", \"content\": \"More experiments with logical qubits  \\n\\n\\nMore specialized hardware/software (as opposed to universal quantum computing)  \\n\\n\\nMore networking noisy intermediate-scale quantum (NISQ) devices together  \\n\\n\\nMore layers of software abstraction  \\n\\n\\nMore workforce development tools  \\n\\n\\nImproved and novel physical qubits [...] On September 10, Microsoft and Quantinuum announced that they had entangled 12 logical qubits, triple the logical qubit count from six months prior [4]. The physical error rate of 0.024 was brought down to a logical error rate of 0.0011, leading to the first ever chemistry simulation combining high-performance computing (HPC), artificial intelligence (AI), and quality control (QC) [5]. [...] University College Dublin, “Topological quantum computers a step closer with new method to ‘split’ electrons,” Phys.org, September 19, 2024.\\nBrookhaven National Laboratory, “Brookhaven Lab’s new qubit architecture could change quantum computing forever,” SciTechDaily, September 21, 2024.\\nSwayne, Matt, “Research team achieves first-ever topological qubit, a step along the path toward fault-tolerant quantum computing,” The Quantum Insider, November 26, 2024.\", \"score\": 0.71995544}, {\"title\": \"Qubits 2025 Unveiling Quantum Annealing Breakthroughs…\", \"url\": \"https://www.youtube.com/watch?v=l_IML23HI00\", \"content\": \"The Quantum Bull New 847 views · 1:36:11 · Go to channel · Qubits 2025 ... 4/7/2025. Bloomberg Television New 4.4K views · 28:43 · Go to channel\", \"score\": 0.5951402}]\n\n### 🤖 Ai Response\nAs of April 07, 2025, the latest advancements in Quantum Computing include:\n\n1. Huge advances in quantum computing are expected in 2025, with a focus on scaling up the number of qubits on a chip, improving the fidelity of the qubits, better error correction, quantum software, quantum algorithms, and several other sub-fields of quantum computing (Source: The Quantum Insider).\n2. Researchers are shifting their focus from qubits to logical qubits, which are protected from errors and have very high fidelity (Source: The Conversation).\n3. More experiments with logical qubits, specialized hardware/software, networking noisy intermediate-scale quantum (NISQ) devices together, more layers of software abstraction, workforce development tools, and improved and novel physical qubits are expected in 2025 (Source: Moody's).\n4. Recent breakthroughs include the entanglement of 12 logical qubits, with a physical error rate of 0.024 brought down to a logical error rate of 0.0011, leading to the first-ever chemistry simulation combining high-performance computing (HPC), artificial intelligence (AI), and quality control (QC) (Source: Moody's).\n\nReferences:\n\n* The Quantum Insider: \"2025 Will See Huge Advances in Quantum Computing. So What is a Quantum Chip and How Does it Work?\"\n* The Conversation: \"Quantum computing: how it works and what it can do\"\n* Moody's: \"Quantum computing's six most important trends for 2025\"\n* YouTube: \"Qubits 2025 Unveiling Quantum Annealing Breakthroughs…\"\n* Phys.org: \"Topological quantum computers a step closer with new method to ‘split’ electrons\"\n* SciTechDaily: \"Brookhaven Lab’s new qubit architecture could change quantum computing forever\"\n* The Quantum Insider: \"Research team achieves first-ever topological qubit, a step along the path toward fault-tolerant quantum computing\"\n\n"
          },
          "metadata": {}
        }
      ]
    },
    {
      "cell_type": "code",
      "source": [],
      "metadata": {
        "id": "UfiQKfwhRd6H"
      },
      "execution_count": null,
      "outputs": []
    }
  ]
}
